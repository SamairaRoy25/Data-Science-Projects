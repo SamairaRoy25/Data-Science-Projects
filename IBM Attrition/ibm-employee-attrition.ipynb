{
 "cells": [
  {
   "cell_type": "code",
   "execution_count": 1,
   "id": "e3072dad",
   "metadata": {
    "execution": {
     "iopub.execute_input": "2023-01-07T12:34:06.343370Z",
     "iopub.status.busy": "2023-01-07T12:34:06.342540Z",
     "iopub.status.idle": "2023-01-07T12:34:07.717826Z",
     "shell.execute_reply": "2023-01-07T12:34:07.716533Z"
    },
    "papermill": {
     "duration": 1.388944,
     "end_time": "2023-01-07T12:34:07.721014",
     "exception": false,
     "start_time": "2023-01-07T12:34:06.332070",
     "status": "completed"
    },
    "tags": []
   },
   "outputs": [],
   "source": [
    "# import libraries\n",
    "import pandas as pd\n",
    "import numpy as np\n",
    "%matplotlib inline\n",
    "import seaborn as sns\n",
    "import matplotlib.pyplot as plt\n",
    "import sklearn\n",
    "import warnings\n",
    "warnings.filterwarnings('ignore')"
   ]
  },
  {
   "cell_type": "code",
   "execution_count": 2,
   "id": "a3e057d5",
   "metadata": {
    "execution": {
     "iopub.execute_input": "2023-01-07T12:34:07.737842Z",
     "iopub.status.busy": "2023-01-07T12:34:07.737430Z",
     "iopub.status.idle": "2023-01-07T12:34:07.759043Z",
     "shell.execute_reply": "2023-01-07T12:34:07.758096Z"
    },
    "papermill": {
     "duration": 0.033039,
     "end_time": "2023-01-07T12:34:07.761507",
     "exception": false,
     "start_time": "2023-01-07T12:34:07.728468",
     "status": "completed"
    },
    "tags": []
   },
   "outputs": [],
   "source": [
    "# load dataset\n",
    "df = pd.read_csv('/kaggle/input/ibm-attrition-dataset/IBM.csv')"
   ]
  },
  {
   "cell_type": "code",
   "execution_count": 3,
   "id": "8a3906cf",
   "metadata": {
    "execution": {
     "iopub.execute_input": "2023-01-07T12:34:07.778823Z",
     "iopub.status.busy": "2023-01-07T12:34:07.778235Z",
     "iopub.status.idle": "2023-01-07T12:34:07.849844Z",
     "shell.execute_reply": "2023-01-07T12:34:07.848562Z"
    },
    "papermill": {
     "duration": 0.083409,
     "end_time": "2023-01-07T12:34:07.852519",
     "exception": false,
     "start_time": "2023-01-07T12:34:07.769110",
     "status": "completed"
    },
    "tags": []
   },
   "outputs": [
    {
     "data": {
      "text/html": [
       "<div>\n",
       "<style scoped>\n",
       "    .dataframe tbody tr th:only-of-type {\n",
       "        vertical-align: middle;\n",
       "    }\n",
       "\n",
       "    .dataframe tbody tr th {\n",
       "        vertical-align: top;\n",
       "    }\n",
       "\n",
       "    .dataframe thead th {\n",
       "        text-align: right;\n",
       "    }\n",
       "</style>\n",
       "<table border=\"1\" class=\"dataframe\">\n",
       "  <thead>\n",
       "    <tr style=\"text-align: right;\">\n",
       "      <th></th>\n",
       "      <th>count</th>\n",
       "      <th>unique</th>\n",
       "      <th>top</th>\n",
       "      <th>freq</th>\n",
       "      <th>mean</th>\n",
       "      <th>std</th>\n",
       "      <th>min</th>\n",
       "      <th>25%</th>\n",
       "      <th>50%</th>\n",
       "      <th>75%</th>\n",
       "      <th>max</th>\n",
       "    </tr>\n",
       "  </thead>\n",
       "  <tbody>\n",
       "    <tr>\n",
       "      <th>Age</th>\n",
       "      <td>1470.0</td>\n",
       "      <td>NaN</td>\n",
       "      <td>NaN</td>\n",
       "      <td>NaN</td>\n",
       "      <td>36.92381</td>\n",
       "      <td>9.135373</td>\n",
       "      <td>18.0</td>\n",
       "      <td>30.0</td>\n",
       "      <td>36.0</td>\n",
       "      <td>43.0</td>\n",
       "      <td>60.0</td>\n",
       "    </tr>\n",
       "    <tr>\n",
       "      <th>Attrition</th>\n",
       "      <td>1470</td>\n",
       "      <td>2</td>\n",
       "      <td>No</td>\n",
       "      <td>1233</td>\n",
       "      <td>NaN</td>\n",
       "      <td>NaN</td>\n",
       "      <td>NaN</td>\n",
       "      <td>NaN</td>\n",
       "      <td>NaN</td>\n",
       "      <td>NaN</td>\n",
       "      <td>NaN</td>\n",
       "    </tr>\n",
       "    <tr>\n",
       "      <th>Department</th>\n",
       "      <td>1470</td>\n",
       "      <td>3</td>\n",
       "      <td>Research &amp; Development</td>\n",
       "      <td>961</td>\n",
       "      <td>NaN</td>\n",
       "      <td>NaN</td>\n",
       "      <td>NaN</td>\n",
       "      <td>NaN</td>\n",
       "      <td>NaN</td>\n",
       "      <td>NaN</td>\n",
       "      <td>NaN</td>\n",
       "    </tr>\n",
       "    <tr>\n",
       "      <th>DistanceFromHome</th>\n",
       "      <td>1470.0</td>\n",
       "      <td>NaN</td>\n",
       "      <td>NaN</td>\n",
       "      <td>NaN</td>\n",
       "      <td>9.192517</td>\n",
       "      <td>8.106864</td>\n",
       "      <td>1.0</td>\n",
       "      <td>2.0</td>\n",
       "      <td>7.0</td>\n",
       "      <td>14.0</td>\n",
       "      <td>29.0</td>\n",
       "    </tr>\n",
       "    <tr>\n",
       "      <th>Education</th>\n",
       "      <td>1470.0</td>\n",
       "      <td>NaN</td>\n",
       "      <td>NaN</td>\n",
       "      <td>NaN</td>\n",
       "      <td>2.912925</td>\n",
       "      <td>1.024165</td>\n",
       "      <td>1.0</td>\n",
       "      <td>2.0</td>\n",
       "      <td>3.0</td>\n",
       "      <td>4.0</td>\n",
       "      <td>5.0</td>\n",
       "    </tr>\n",
       "    <tr>\n",
       "      <th>EducationField</th>\n",
       "      <td>1470</td>\n",
       "      <td>6</td>\n",
       "      <td>Life Sciences</td>\n",
       "      <td>606</td>\n",
       "      <td>NaN</td>\n",
       "      <td>NaN</td>\n",
       "      <td>NaN</td>\n",
       "      <td>NaN</td>\n",
       "      <td>NaN</td>\n",
       "      <td>NaN</td>\n",
       "      <td>NaN</td>\n",
       "    </tr>\n",
       "    <tr>\n",
       "      <th>EnvironmentSatisfaction</th>\n",
       "      <td>1470.0</td>\n",
       "      <td>NaN</td>\n",
       "      <td>NaN</td>\n",
       "      <td>NaN</td>\n",
       "      <td>2.721769</td>\n",
       "      <td>1.093082</td>\n",
       "      <td>1.0</td>\n",
       "      <td>2.0</td>\n",
       "      <td>3.0</td>\n",
       "      <td>4.0</td>\n",
       "      <td>4.0</td>\n",
       "    </tr>\n",
       "    <tr>\n",
       "      <th>JobSatisfaction</th>\n",
       "      <td>1470.0</td>\n",
       "      <td>NaN</td>\n",
       "      <td>NaN</td>\n",
       "      <td>NaN</td>\n",
       "      <td>2.728571</td>\n",
       "      <td>1.102846</td>\n",
       "      <td>1.0</td>\n",
       "      <td>2.0</td>\n",
       "      <td>3.0</td>\n",
       "      <td>4.0</td>\n",
       "      <td>4.0</td>\n",
       "    </tr>\n",
       "    <tr>\n",
       "      <th>MaritalStatus</th>\n",
       "      <td>1470</td>\n",
       "      <td>3</td>\n",
       "      <td>Married</td>\n",
       "      <td>673</td>\n",
       "      <td>NaN</td>\n",
       "      <td>NaN</td>\n",
       "      <td>NaN</td>\n",
       "      <td>NaN</td>\n",
       "      <td>NaN</td>\n",
       "      <td>NaN</td>\n",
       "      <td>NaN</td>\n",
       "    </tr>\n",
       "    <tr>\n",
       "      <th>MonthlyIncome</th>\n",
       "      <td>1470.0</td>\n",
       "      <td>NaN</td>\n",
       "      <td>NaN</td>\n",
       "      <td>NaN</td>\n",
       "      <td>6502.931293</td>\n",
       "      <td>4707.956783</td>\n",
       "      <td>1009.0</td>\n",
       "      <td>2911.0</td>\n",
       "      <td>4919.0</td>\n",
       "      <td>8379.0</td>\n",
       "      <td>19999.0</td>\n",
       "    </tr>\n",
       "    <tr>\n",
       "      <th>NumCompaniesWorked</th>\n",
       "      <td>1470.0</td>\n",
       "      <td>NaN</td>\n",
       "      <td>NaN</td>\n",
       "      <td>NaN</td>\n",
       "      <td>2.693197</td>\n",
       "      <td>2.498009</td>\n",
       "      <td>0.0</td>\n",
       "      <td>1.0</td>\n",
       "      <td>2.0</td>\n",
       "      <td>4.0</td>\n",
       "      <td>9.0</td>\n",
       "    </tr>\n",
       "    <tr>\n",
       "      <th>WorkLifeBalance</th>\n",
       "      <td>1470.0</td>\n",
       "      <td>NaN</td>\n",
       "      <td>NaN</td>\n",
       "      <td>NaN</td>\n",
       "      <td>2.761224</td>\n",
       "      <td>0.706476</td>\n",
       "      <td>1.0</td>\n",
       "      <td>2.0</td>\n",
       "      <td>3.0</td>\n",
       "      <td>3.0</td>\n",
       "      <td>4.0</td>\n",
       "    </tr>\n",
       "    <tr>\n",
       "      <th>YearsAtCompany</th>\n",
       "      <td>1470.0</td>\n",
       "      <td>NaN</td>\n",
       "      <td>NaN</td>\n",
       "      <td>NaN</td>\n",
       "      <td>7.008163</td>\n",
       "      <td>6.126525</td>\n",
       "      <td>0.0</td>\n",
       "      <td>3.0</td>\n",
       "      <td>5.0</td>\n",
       "      <td>9.0</td>\n",
       "      <td>40.0</td>\n",
       "    </tr>\n",
       "  </tbody>\n",
       "</table>\n",
       "</div>"
      ],
      "text/plain": [
       "                          count unique                     top  freq  \\\n",
       "Age                      1470.0    NaN                     NaN   NaN   \n",
       "Attrition                  1470      2                      No  1233   \n",
       "Department                 1470      3  Research & Development   961   \n",
       "DistanceFromHome         1470.0    NaN                     NaN   NaN   \n",
       "Education                1470.0    NaN                     NaN   NaN   \n",
       "EducationField             1470      6           Life Sciences   606   \n",
       "EnvironmentSatisfaction  1470.0    NaN                     NaN   NaN   \n",
       "JobSatisfaction          1470.0    NaN                     NaN   NaN   \n",
       "MaritalStatus              1470      3                 Married   673   \n",
       "MonthlyIncome            1470.0    NaN                     NaN   NaN   \n",
       "NumCompaniesWorked       1470.0    NaN                     NaN   NaN   \n",
       "WorkLifeBalance          1470.0    NaN                     NaN   NaN   \n",
       "YearsAtCompany           1470.0    NaN                     NaN   NaN   \n",
       "\n",
       "                                mean          std     min     25%     50%  \\\n",
       "Age                         36.92381     9.135373    18.0    30.0    36.0   \n",
       "Attrition                        NaN          NaN     NaN     NaN     NaN   \n",
       "Department                       NaN          NaN     NaN     NaN     NaN   \n",
       "DistanceFromHome            9.192517     8.106864     1.0     2.0     7.0   \n",
       "Education                   2.912925     1.024165     1.0     2.0     3.0   \n",
       "EducationField                   NaN          NaN     NaN     NaN     NaN   \n",
       "EnvironmentSatisfaction     2.721769     1.093082     1.0     2.0     3.0   \n",
       "JobSatisfaction             2.728571     1.102846     1.0     2.0     3.0   \n",
       "MaritalStatus                    NaN          NaN     NaN     NaN     NaN   \n",
       "MonthlyIncome            6502.931293  4707.956783  1009.0  2911.0  4919.0   \n",
       "NumCompaniesWorked          2.693197     2.498009     0.0     1.0     2.0   \n",
       "WorkLifeBalance             2.761224     0.706476     1.0     2.0     3.0   \n",
       "YearsAtCompany              7.008163     6.126525     0.0     3.0     5.0   \n",
       "\n",
       "                            75%      max  \n",
       "Age                        43.0     60.0  \n",
       "Attrition                   NaN      NaN  \n",
       "Department                  NaN      NaN  \n",
       "DistanceFromHome           14.0     29.0  \n",
       "Education                   4.0      5.0  \n",
       "EducationField              NaN      NaN  \n",
       "EnvironmentSatisfaction     4.0      4.0  \n",
       "JobSatisfaction             4.0      4.0  \n",
       "MaritalStatus               NaN      NaN  \n",
       "MonthlyIncome            8379.0  19999.0  \n",
       "NumCompaniesWorked          4.0      9.0  \n",
       "WorkLifeBalance             3.0      4.0  \n",
       "YearsAtCompany              9.0     40.0  "
      ]
     },
     "execution_count": 3,
     "metadata": {},
     "output_type": "execute_result"
    }
   ],
   "source": [
    "df.describe(include='all').T"
   ]
  },
  {
   "cell_type": "code",
   "execution_count": 4,
   "id": "a553bdc7",
   "metadata": {
    "execution": {
     "iopub.execute_input": "2023-01-07T12:34:07.870662Z",
     "iopub.status.busy": "2023-01-07T12:34:07.870178Z",
     "iopub.status.idle": "2023-01-07T12:34:07.891482Z",
     "shell.execute_reply": "2023-01-07T12:34:07.890216Z"
    },
    "papermill": {
     "duration": 0.035253,
     "end_time": "2023-01-07T12:34:07.896229",
     "exception": false,
     "start_time": "2023-01-07T12:34:07.860976",
     "status": "completed"
    },
    "tags": []
   },
   "outputs": [
    {
     "name": "stdout",
     "output_type": "stream",
     "text": [
      "<class 'pandas.core.frame.DataFrame'>\n",
      "RangeIndex: 1470 entries, 0 to 1469\n",
      "Data columns (total 13 columns):\n",
      " #   Column                   Non-Null Count  Dtype \n",
      "---  ------                   --------------  ----- \n",
      " 0   Age                      1470 non-null   int64 \n",
      " 1   Attrition                1470 non-null   object\n",
      " 2   Department               1470 non-null   object\n",
      " 3   DistanceFromHome         1470 non-null   int64 \n",
      " 4   Education                1470 non-null   int64 \n",
      " 5   EducationField           1470 non-null   object\n",
      " 6   EnvironmentSatisfaction  1470 non-null   int64 \n",
      " 7   JobSatisfaction          1470 non-null   int64 \n",
      " 8   MaritalStatus            1470 non-null   object\n",
      " 9   MonthlyIncome            1470 non-null   int64 \n",
      " 10  NumCompaniesWorked       1470 non-null   int64 \n",
      " 11  WorkLifeBalance          1470 non-null   int64 \n",
      " 12  YearsAtCompany           1470 non-null   int64 \n",
      "dtypes: int64(9), object(4)\n",
      "memory usage: 149.4+ KB\n"
     ]
    }
   ],
   "source": [
    "df.info()"
   ]
  },
  {
   "cell_type": "code",
   "execution_count": 5,
   "id": "6723155a",
   "metadata": {
    "execution": {
     "iopub.execute_input": "2023-01-07T12:34:07.915196Z",
     "iopub.status.busy": "2023-01-07T12:34:07.914442Z",
     "iopub.status.idle": "2023-01-07T12:34:07.924671Z",
     "shell.execute_reply": "2023-01-07T12:34:07.923485Z"
    },
    "papermill": {
     "duration": 0.022181,
     "end_time": "2023-01-07T12:34:07.927230",
     "exception": false,
     "start_time": "2023-01-07T12:34:07.905049",
     "status": "completed"
    },
    "tags": []
   },
   "outputs": [
    {
     "data": {
      "text/plain": [
       "Age                        0\n",
       "Attrition                  0\n",
       "Department                 0\n",
       "DistanceFromHome           0\n",
       "Education                  0\n",
       "EducationField             0\n",
       "EnvironmentSatisfaction    0\n",
       "JobSatisfaction            0\n",
       "MaritalStatus              0\n",
       "MonthlyIncome              0\n",
       "NumCompaniesWorked         0\n",
       "WorkLifeBalance            0\n",
       "YearsAtCompany             0\n",
       "dtype: int64"
      ]
     },
     "execution_count": 5,
     "metadata": {},
     "output_type": "execute_result"
    }
   ],
   "source": [
    "# checking for NaN values\n",
    "df.isna().sum()"
   ]
  },
  {
   "cell_type": "code",
   "execution_count": 6,
   "id": "c77fffba",
   "metadata": {
    "execution": {
     "iopub.execute_input": "2023-01-07T12:34:07.948909Z",
     "iopub.status.busy": "2023-01-07T12:34:07.948089Z",
     "iopub.status.idle": "2023-01-07T12:34:08.606109Z",
     "shell.execute_reply": "2023-01-07T12:34:08.604897Z"
    },
    "papermill": {
     "duration": 0.672619,
     "end_time": "2023-01-07T12:34:08.608937",
     "exception": false,
     "start_time": "2023-01-07T12:34:07.936318",
     "status": "completed"
    },
    "tags": []
   },
   "outputs": [
    {
     "data": {
      "text/plain": [
       "Text(0.5, 1.0, 'Age distribution of Employees')"
      ]
     },
     "execution_count": 6,
     "metadata": {},
     "output_type": "execute_result"
    },
    {
     "data": {
      "image/png": "[encoded data removed]",
      "text/plain": [
       "<Figure size 1080x432 with 1 Axes>"
      ]
     },
     "metadata": {
      "needs_background": "light"
     },
     "output_type": "display_data"
    }
   ],
   "source": [
    "# Age distribution of employees\n",
    "plt.figure(figsize=(15,6))\n",
    "sns.countplot(data = df,x=df['Age'])\n",
    "plt.title('Age distribution of Employees')"
   ]
  },
  {
   "cell_type": "code",
   "execution_count": 7,
   "id": "22710e08",
   "metadata": {
    "execution": {
     "iopub.execute_input": "2023-01-07T12:34:08.627334Z",
     "iopub.status.busy": "2023-01-07T12:34:08.626942Z",
     "iopub.status.idle": "2023-01-07T12:34:09.454512Z",
     "shell.execute_reply": "2023-01-07T12:34:09.453278Z"
    },
    "papermill": {
     "duration": 0.840346,
     "end_time": "2023-01-07T12:34:09.457579",
     "exception": false,
     "start_time": "2023-01-07T12:34:08.617233",
     "status": "completed"
    },
    "tags": []
   },
   "outputs": [
    {
     "data": {
      "text/plain": [
       "Text(0.5, 1.0, 'Age Attrition of Employees')"
      ]
     },
     "execution_count": 7,
     "metadata": {},
     "output_type": "execute_result"
    },
    {
     "data": {
      "image/png": "[encoded data removed]",
      "text/plain": [
       "<Figure size 1080x576 with 1 Axes>"
      ]
     },
     "metadata": {
      "needs_background": "light"
     },
     "output_type": "display_data"
    }
   ],
   "source": [
    "# Age attrition of employees\n",
    "plt.figure(figsize=(15,8))\n",
    "sns.countplot(data=df,x=df['Age'],hue=(df['Attrition']),palette='ocean')\n",
    "plt.title('Age Attrition of Employees')"
   ]
  },
  {
   "cell_type": "code",
   "execution_count": 8,
   "id": "862cc0ac",
   "metadata": {
    "execution": {
     "iopub.execute_input": "2023-01-07T12:34:09.479344Z",
     "iopub.status.busy": "2023-01-07T12:34:09.477742Z",
     "iopub.status.idle": "2023-01-07T12:34:09.710330Z",
     "shell.execute_reply": "2023-01-07T12:34:09.708887Z"
    },
    "papermill": {
     "duration": 0.245562,
     "end_time": "2023-01-07T12:34:09.713141",
     "exception": false,
     "start_time": "2023-01-07T12:34:09.467579",
     "status": "completed"
    },
    "tags": []
   },
   "outputs": [
    {
     "data": {
      "text/plain": [
       "Text(0.5, 1.0, 'Departmental Attrition of Employees')"
      ]
     },
     "execution_count": 8,
     "metadata": {},
     "output_type": "execute_result"
    },
    {
     "data": {
      "image/png": "[encoded data removed]",
      "text/plain": [
       "<Figure size 720x432 with 1 Axes>"
      ]
     },
     "metadata": {
      "needs_background": "light"
     },
     "output_type": "display_data"
    }
   ],
   "source": [
    "# Departmental Attrition of Employees\n",
    "plt.figure(figsize=(10,6))\n",
    "sns.countplot(data=df,x=df['Department'],order=df['Department'].value_counts().sort_values(ascending=True).index,palette='ocean')\n",
    "plt.title('Departmental Attrition of Employees')"
   ]
  },
  {
   "cell_type": "code",
   "execution_count": 9,
   "id": "38b20350",
   "metadata": {
    "execution": {
     "iopub.execute_input": "2023-01-07T12:34:09.733533Z",
     "iopub.status.busy": "2023-01-07T12:34:09.733125Z",
     "iopub.status.idle": "2023-01-07T12:34:09.941934Z",
     "shell.execute_reply": "2023-01-07T12:34:09.940389Z"
    },
    "papermill": {
     "duration": 0.22205,
     "end_time": "2023-01-07T12:34:09.944775",
     "exception": false,
     "start_time": "2023-01-07T12:34:09.722725",
     "status": "completed"
    },
    "tags": []
   },
   "outputs": [
    {
     "data": {
      "text/plain": [
       "Text(0.5, 1.0, 'Attrition for left Employees')"
      ]
     },
     "execution_count": 9,
     "metadata": {},
     "output_type": "execute_result"
    },
    {
     "data": {
      "image/png": "[encoded data removed]",
      "text/plain": [
       "<Figure size 576x360 with 1 Axes>"
      ]
     },
     "metadata": {
      "needs_background": "light"
     },
     "output_type": "display_data"
    }
   ],
   "source": [
    "# Attrition for left Employees\n",
    "plt.figure(figsize=(8,5))\n",
    "sns.countplot(data=df,x=df['Attrition'],order=df['Attrition'].value_counts().sort_values(ascending=True).index,palette = 'ocean').set_title('Attrition for left Employees')"
   ]
  },
  {
   "cell_type": "code",
   "execution_count": 10,
   "id": "21f615dd",
   "metadata": {
    "execution": {
     "iopub.execute_input": "2023-01-07T12:34:09.969399Z",
     "iopub.status.busy": "2023-01-07T12:34:09.968958Z",
     "iopub.status.idle": "2023-01-07T12:34:10.231373Z",
     "shell.execute_reply": "2023-01-07T12:34:10.230002Z"
    },
    "papermill": {
     "duration": 0.278301,
     "end_time": "2023-01-07T12:34:10.234284",
     "exception": false,
     "start_time": "2023-01-07T12:34:09.955983",
     "status": "completed"
    },
    "tags": []
   },
   "outputs": [
    {
     "data": {
      "text/plain": [
       "Text(0.5, 1.0, 'Attrition by EducationField')"
      ]
     },
     "execution_count": 10,
     "metadata": {},
     "output_type": "execute_result"
    },
    {
     "data": {
      "image/png": "[encoded data removed]",
      "text/plain": [
       "<Figure size 576x360 with 1 Axes>"
      ]
     },
     "metadata": {
      "needs_background": "light"
     },
     "output_type": "display_data"
    }
   ],
   "source": [
    "# distribution of employees by the education field\n",
    "plt.figure(figsize=(8,5))\n",
    "sns.countplot(data=df,x=df['EducationField'],order=df['EducationField'].value_counts().sort_values(ascending=True).index,palette = 'ocean').set_title('Attrition by EducationField')"
   ]
  },
  {
   "cell_type": "code",
   "execution_count": 11,
   "id": "4920708c",
   "metadata": {
    "execution": {
     "iopub.execute_input": "2023-01-07T12:34:10.258065Z",
     "iopub.status.busy": "2023-01-07T12:34:10.257628Z",
     "iopub.status.idle": "2023-01-07T12:34:10.492607Z",
     "shell.execute_reply": "2023-01-07T12:34:10.491438Z"
    },
    "papermill": {
     "duration": 0.25002,
     "end_time": "2023-01-07T12:34:10.495501",
     "exception": false,
     "start_time": "2023-01-07T12:34:10.245481",
     "status": "completed"
    },
    "tags": []
   },
   "outputs": [
    {
     "data": {
      "text/plain": [
       "Text(0.5, 1.0, 'MaritalStatus')"
      ]
     },
     "execution_count": 11,
     "metadata": {},
     "output_type": "execute_result"
    },
    {
     "data": {
      "image/png": "[encoded data removed]",
      "text/plain": [
       "<Figure size 576x360 with 1 Axes>"
      ]
     },
     "metadata": {
      "needs_background": "light"
     },
     "output_type": "display_data"
    }
   ],
   "source": [
    "# number of married and unmarried employees\n",
    "plt.figure(figsize=(8,5))\n",
    "sns.countplot(data=df,x=df['MaritalStatus'],order=df['MaritalStatus'].value_counts().sort_values(ascending=True).index,palette = 'ocean').set_title('MaritalStatus')"
   ]
  },
  {
   "cell_type": "code",
   "execution_count": 12,
   "id": "a1d43f03",
   "metadata": {
    "execution": {
     "iopub.execute_input": "2023-01-07T12:34:10.522177Z",
     "iopub.status.busy": "2023-01-07T12:34:10.521042Z",
     "iopub.status.idle": "2023-01-07T12:34:10.533632Z",
     "shell.execute_reply": "2023-01-07T12:34:10.532170Z"
    },
    "papermill": {
     "duration": 0.029195,
     "end_time": "2023-01-07T12:34:10.537262",
     "exception": false,
     "start_time": "2023-01-07T12:34:10.508067",
     "status": "completed"
    },
    "tags": []
   },
   "outputs": [
    {
     "data": {
      "text/plain": [
       "Age                         int64\n",
       "Attrition                  object\n",
       "Department                 object\n",
       "DistanceFromHome            int64\n",
       "Education                   int64\n",
       "EducationField             object\n",
       "EnvironmentSatisfaction     int64\n",
       "JobSatisfaction             int64\n",
       "MaritalStatus              object\n",
       "MonthlyIncome               int64\n",
       "NumCompaniesWorked          int64\n",
       "WorkLifeBalance             int64\n",
       "YearsAtCompany              int64\n",
       "dtype: object"
      ]
     },
     "execution_count": 12,
     "metadata": {},
     "output_type": "execute_result"
    }
   ],
   "source": [
    "df.dtypes"
   ]
  },
  {
   "cell_type": "code",
   "execution_count": 13,
   "id": "0b75a8ad",
   "metadata": {
    "execution": {
     "iopub.execute_input": "2023-01-07T12:34:10.561039Z",
     "iopub.status.busy": "2023-01-07T12:34:10.560285Z",
     "iopub.status.idle": "2023-01-07T12:34:10.568844Z",
     "shell.execute_reply": "2023-01-07T12:34:10.567620Z"
    },
    "papermill": {
     "duration": 0.023854,
     "end_time": "2023-01-07T12:34:10.571780",
     "exception": false,
     "start_time": "2023-01-07T12:34:10.547926",
     "status": "completed"
    },
    "tags": []
   },
   "outputs": [],
   "source": [
    "df['Attrition'].replace('Yes', 1, inplace=True)\n",
    "df['Attrition'].replace('No', 0, inplace=True)"
   ]
  },
  {
   "cell_type": "code",
   "execution_count": 14,
   "id": "fa73eac9",
   "metadata": {
    "execution": {
     "iopub.execute_input": "2023-01-07T12:34:10.595415Z",
     "iopub.status.busy": "2023-01-07T12:34:10.595001Z",
     "iopub.status.idle": "2023-01-07T12:34:10.603245Z",
     "shell.execute_reply": "2023-01-07T12:34:10.602066Z"
    },
    "papermill": {
     "duration": 0.023307,
     "end_time": "2023-01-07T12:34:10.605629",
     "exception": false,
     "start_time": "2023-01-07T12:34:10.582322",
     "status": "completed"
    },
    "tags": []
   },
   "outputs": [
    {
     "data": {
      "text/plain": [
       "0    1233\n",
       "1     237\n",
       "Name: Attrition, dtype: int64"
      ]
     },
     "execution_count": 14,
     "metadata": {},
     "output_type": "execute_result"
    }
   ],
   "source": [
    "df['Attrition'].value_counts()"
   ]
  },
  {
   "cell_type": "code",
   "execution_count": 15,
   "id": "0e31080a",
   "metadata": {
    "execution": {
     "iopub.execute_input": "2023-01-07T12:34:10.629345Z",
     "iopub.status.busy": "2023-01-07T12:34:10.628923Z",
     "iopub.status.idle": "2023-01-07T12:34:10.637894Z",
     "shell.execute_reply": "2023-01-07T12:34:10.636537Z"
    },
    "papermill": {
     "duration": 0.023938,
     "end_time": "2023-01-07T12:34:10.640390",
     "exception": false,
     "start_time": "2023-01-07T12:34:10.616452",
     "status": "completed"
    },
    "tags": []
   },
   "outputs": [],
   "source": [
    "df['Department'].replace('Human Resources', 1, inplace=True)\n",
    "df['Department'].replace('Research & Development', 2, inplace=True)\n",
    "df['Department'].replace('Sales', 3, inplace=True)"
   ]
  },
  {
   "cell_type": "code",
   "execution_count": 16,
   "id": "c3ea845d",
   "metadata": {
    "execution": {
     "iopub.execute_input": "2023-01-07T12:34:10.663358Z",
     "iopub.status.busy": "2023-01-07T12:34:10.662946Z",
     "iopub.status.idle": "2023-01-07T12:34:10.672812Z",
     "shell.execute_reply": "2023-01-07T12:34:10.671626Z"
    },
    "papermill": {
     "duration": 0.024325,
     "end_time": "2023-01-07T12:34:10.675359",
     "exception": false,
     "start_time": "2023-01-07T12:34:10.651034",
     "status": "completed"
    },
    "tags": []
   },
   "outputs": [
    {
     "data": {
      "text/plain": [
       "2    961\n",
       "3    446\n",
       "1     63\n",
       "Name: Department, dtype: int64"
      ]
     },
     "execution_count": 16,
     "metadata": {},
     "output_type": "execute_result"
    }
   ],
   "source": [
    "df['Department'].value_counts()"
   ]
  },
  {
   "cell_type": "code",
   "execution_count": 17,
   "id": "6d553e03",
   "metadata": {
    "execution": {
     "iopub.execute_input": "2023-01-07T12:34:10.698538Z",
     "iopub.status.busy": "2023-01-07T12:34:10.698144Z",
     "iopub.status.idle": "2023-01-07T12:34:10.709244Z",
     "shell.execute_reply": "2023-01-07T12:34:10.708070Z"
    },
    "papermill": {
     "duration": 0.025569,
     "end_time": "2023-01-07T12:34:10.711649",
     "exception": false,
     "start_time": "2023-01-07T12:34:10.686080",
     "status": "completed"
    },
    "tags": []
   },
   "outputs": [],
   "source": [
    "df['EducationField'].replace('Human Resources', 1, inplace=True)\n",
    "df['EducationField'].replace('Life Sciences', 2, inplace=True)\n",
    "df['EducationField'].replace('Marketing', 3, inplace=True)\n",
    "df['EducationField'].replace('Medical', 4, inplace=True)\n",
    "df['EducationField'].replace('Other', 5, inplace=True)\n",
    "df['EducationField'].replace('Technical Degree', 6, inplace=True)"
   ]
  },
  {
   "cell_type": "code",
   "execution_count": 18,
   "id": "ec2e516a",
   "metadata": {
    "execution": {
     "iopub.execute_input": "2023-01-07T12:34:10.735272Z",
     "iopub.status.busy": "2023-01-07T12:34:10.734853Z",
     "iopub.status.idle": "2023-01-07T12:34:10.743899Z",
     "shell.execute_reply": "2023-01-07T12:34:10.742812Z"
    },
    "papermill": {
     "duration": 0.023089,
     "end_time": "2023-01-07T12:34:10.745941",
     "exception": false,
     "start_time": "2023-01-07T12:34:10.722852",
     "status": "completed"
    },
    "tags": []
   },
   "outputs": [
    {
     "data": {
      "text/plain": [
       "2    606\n",
       "4    464\n",
       "3    159\n",
       "6    132\n",
       "5     82\n",
       "1     27\n",
       "Name: EducationField, dtype: int64"
      ]
     },
     "execution_count": 18,
     "metadata": {},
     "output_type": "execute_result"
    }
   ],
   "source": [
    "df['EducationField'].value_counts()"
   ]
  },
  {
   "cell_type": "code",
   "execution_count": 19,
   "id": "1d103fa0",
   "metadata": {
    "execution": {
     "iopub.execute_input": "2023-01-07T12:34:10.769721Z",
     "iopub.status.busy": "2023-01-07T12:34:10.769273Z",
     "iopub.status.idle": "2023-01-07T12:34:10.778133Z",
     "shell.execute_reply": "2023-01-07T12:34:10.776875Z"
    },
    "papermill": {
     "duration": 0.023733,
     "end_time": "2023-01-07T12:34:10.780609",
     "exception": false,
     "start_time": "2023-01-07T12:34:10.756876",
     "status": "completed"
    },
    "tags": []
   },
   "outputs": [],
   "source": [
    "df['MaritalStatus'].replace('Divorced', 1, inplace=True)\n",
    "df['MaritalStatus'].replace('Married', 2, inplace=True)\n",
    "df['MaritalStatus'].replace('Single', 3, inplace=True)"
   ]
  },
  {
   "cell_type": "code",
   "execution_count": 20,
   "id": "0c5d1a82",
   "metadata": {
    "execution": {
     "iopub.execute_input": "2023-01-07T12:34:10.804373Z",
     "iopub.status.busy": "2023-01-07T12:34:10.803921Z",
     "iopub.status.idle": "2023-01-07T12:34:10.813046Z",
     "shell.execute_reply": "2023-01-07T12:34:10.811990Z"
    },
    "papermill": {
     "duration": 0.023474,
     "end_time": "2023-01-07T12:34:10.815241",
     "exception": false,
     "start_time": "2023-01-07T12:34:10.791767",
     "status": "completed"
    },
    "tags": []
   },
   "outputs": [
    {
     "data": {
      "text/plain": [
       "2    673\n",
       "3    470\n",
       "1    327\n",
       "Name: MaritalStatus, dtype: int64"
      ]
     },
     "execution_count": 20,
     "metadata": {},
     "output_type": "execute_result"
    }
   ],
   "source": [
    "df['MaritalStatus'].value_counts()"
   ]
  },
  {
   "cell_type": "code",
   "execution_count": 21,
   "id": "f8a16e65",
   "metadata": {
    "execution": {
     "iopub.execute_input": "2023-01-07T12:34:10.838964Z",
     "iopub.status.busy": "2023-01-07T12:34:10.838518Z",
     "iopub.status.idle": "2023-01-07T12:34:10.845887Z",
     "shell.execute_reply": "2023-01-07T12:34:10.844412Z"
    },
    "papermill": {
     "duration": 0.022713,
     "end_time": "2023-01-07T12:34:10.848749",
     "exception": false,
     "start_time": "2023-01-07T12:34:10.826036",
     "status": "completed"
    },
    "tags": []
   },
   "outputs": [],
   "source": [
    "# Model Building\n",
    "x = df.drop(['Attrition'],axis=1)\n",
    "y = df['Attrition']"
   ]
  },
  {
   "cell_type": "code",
   "execution_count": 22,
   "id": "30cc6e2b",
   "metadata": {
    "execution": {
     "iopub.execute_input": "2023-01-07T12:34:10.872861Z",
     "iopub.status.busy": "2023-01-07T12:34:10.872459Z",
     "iopub.status.idle": "2023-01-07T12:34:10.976491Z",
     "shell.execute_reply": "2023-01-07T12:34:10.974648Z"
    },
    "papermill": {
     "duration": 0.119929,
     "end_time": "2023-01-07T12:34:10.979527",
     "exception": false,
     "start_time": "2023-01-07T12:34:10.859598",
     "status": "completed"
    },
    "tags": []
   },
   "outputs": [],
   "source": [
    "from sklearn.model_selection import train_test_split\n",
    "x_train,x_test,y_train,y_test = train_test_split(x,y,train_size=0.8,random_state=200)"
   ]
  },
  {
   "cell_type": "code",
   "execution_count": 23,
   "id": "06c0f995",
   "metadata": {
    "execution": {
     "iopub.execute_input": "2023-01-07T12:34:11.003666Z",
     "iopub.status.busy": "2023-01-07T12:34:11.003229Z",
     "iopub.status.idle": "2023-01-07T12:34:11.199565Z",
     "shell.execute_reply": "2023-01-07T12:34:11.197844Z"
    },
    "papermill": {
     "duration": 0.213725,
     "end_time": "2023-01-07T12:34:11.204487",
     "exception": false,
     "start_time": "2023-01-07T12:34:10.990762",
     "status": "completed"
    },
    "tags": []
   },
   "outputs": [
    {
     "data": {
      "text/plain": [
       "LogisticRegression()"
      ]
     },
     "execution_count": 23,
     "metadata": {},
     "output_type": "execute_result"
    }
   ],
   "source": [
    "from sklearn.linear_model import LogisticRegression\n",
    "lr = LogisticRegression()\n",
    "lr.fit(x_train,y_train)"
   ]
  },
  {
   "cell_type": "code",
   "execution_count": 24,
   "id": "f4811523",
   "metadata": {
    "execution": {
     "iopub.execute_input": "2023-01-07T12:34:11.266675Z",
     "iopub.status.busy": "2023-01-07T12:34:11.265892Z",
     "iopub.status.idle": "2023-01-07T12:34:11.277619Z",
     "shell.execute_reply": "2023-01-07T12:34:11.275928Z"
    },
    "papermill": {
     "duration": 0.047105,
     "end_time": "2023-01-07T12:34:11.282253",
     "exception": false,
     "start_time": "2023-01-07T12:34:11.235148",
     "status": "completed"
    },
    "tags": []
   },
   "outputs": [],
   "source": [
    "y_pred = lr.predict(x_test)"
   ]
  },
  {
   "cell_type": "code",
   "execution_count": 25,
   "id": "f90e53d6",
   "metadata": {
    "execution": {
     "iopub.execute_input": "2023-01-07T12:34:11.322086Z",
     "iopub.status.busy": "2023-01-07T12:34:11.321670Z",
     "iopub.status.idle": "2023-01-07T12:34:11.336182Z",
     "shell.execute_reply": "2023-01-07T12:34:11.334241Z"
    },
    "papermill": {
     "duration": 0.032103,
     "end_time": "2023-01-07T12:34:11.341140",
     "exception": false,
     "start_time": "2023-01-07T12:34:11.309037",
     "status": "completed"
    },
    "tags": []
   },
   "outputs": [
    {
     "name": "stdout",
     "output_type": "stream",
     "text": [
      "84.0 %\n"
     ]
    }
   ],
   "source": [
    "lr_score = print(lr.score(x_train,y_train).round(2)*100,'%')"
   ]
  },
  {
   "cell_type": "code",
   "execution_count": 26,
   "id": "8d40e178",
   "metadata": {
    "execution": {
     "iopub.execute_input": "2023-01-07T12:34:11.402456Z",
     "iopub.status.busy": "2023-01-07T12:34:11.401695Z",
     "iopub.status.idle": "2023-01-07T12:34:11.413975Z",
     "shell.execute_reply": "2023-01-07T12:34:11.412328Z"
    },
    "papermill": {
     "duration": 0.048781,
     "end_time": "2023-01-07T12:34:11.419721",
     "exception": false,
     "start_time": "2023-01-07T12:34:11.370940",
     "status": "completed"
    },
    "tags": []
   },
   "outputs": [],
   "source": [
    "from sklearn.metrics import accuracy_score, confusion_matrix, classification_report"
   ]
  },
  {
   "cell_type": "code",
   "execution_count": 27,
   "id": "a1b1712a",
   "metadata": {
    "execution": {
     "iopub.execute_input": "2023-01-07T12:34:11.460520Z",
     "iopub.status.busy": "2023-01-07T12:34:11.460010Z",
     "iopub.status.idle": "2023-01-07T12:34:11.467499Z",
     "shell.execute_reply": "2023-01-07T12:34:11.466339Z"
    },
    "papermill": {
     "duration": 0.022959,
     "end_time": "2023-01-07T12:34:11.470251",
     "exception": false,
     "start_time": "2023-01-07T12:34:11.447292",
     "status": "completed"
    },
    "tags": []
   },
   "outputs": [
    {
     "name": "stdout",
     "output_type": "stream",
     "text": [
      "Model accuracy: 87.0 %\n"
     ]
    }
   ],
   "source": [
    "print(\"Model accuracy:\", accuracy_score(y_test, y_pred).round(2)*100,'%')"
   ]
  },
  {
   "cell_type": "code",
   "execution_count": 28,
   "id": "a52992a4",
   "metadata": {
    "execution": {
     "iopub.execute_input": "2023-01-07T12:34:11.495621Z",
     "iopub.status.busy": "2023-01-07T12:34:11.494824Z",
     "iopub.status.idle": "2023-01-07T12:34:11.505737Z",
     "shell.execute_reply": "2023-01-07T12:34:11.504465Z"
    },
    "papermill": {
     "duration": 0.026671,
     "end_time": "2023-01-07T12:34:11.508640",
     "exception": false,
     "start_time": "2023-01-07T12:34:11.481969",
     "status": "completed"
    },
    "scrolled": true,
    "tags": []
   },
   "outputs": [
    {
     "name": "stdout",
     "output_type": "stream",
     "text": [
      "Classification report               precision    recall  f1-score   support\n",
      "\n",
      "           0       0.87      0.99      0.93       253\n",
      "           1       0.67      0.10      0.17        41\n",
      "\n",
      "    accuracy                           0.87       294\n",
      "   macro avg       0.77      0.54      0.55       294\n",
      "weighted avg       0.84      0.87      0.82       294\n",
      "\n"
     ]
    }
   ],
   "source": [
    "print(\"Classification report\", classification_report(y_test, y_pred))"
   ]
  },
  {
   "cell_type": "code",
   "execution_count": 29,
   "id": "7cca7b43",
   "metadata": {
    "execution": {
     "iopub.execute_input": "2023-01-07T12:34:11.535065Z",
     "iopub.status.busy": "2023-01-07T12:34:11.534666Z",
     "iopub.status.idle": "2023-01-07T12:34:11.544206Z",
     "shell.execute_reply": "2023-01-07T12:34:11.543021Z"
    },
    "papermill": {
     "duration": 0.027364,
     "end_time": "2023-01-07T12:34:11.547563",
     "exception": false,
     "start_time": "2023-01-07T12:34:11.520199",
     "status": "completed"
    },
    "tags": []
   },
   "outputs": [
    {
     "name": "stdout",
     "output_type": "stream",
     "text": [
      "[[251   2]\n",
      " [ 37   4]]\n"
     ]
    }
   ],
   "source": [
    "print(confusion_matrix(y_test, y_pred))"
   ]
  }
 ],
 "metadata": {
  "kernelspec": {
   "display_name": "Python 3",
   "language": "python",
   "name": "python3"
  },
  "language_info": {
   "codemirror_mode": {
    "name": "ipython",
    "version": 3
   },
   "file_extension": ".py",
   "mimetype": "text/x-python",
   "name": "python",
   "nbconvert_exporter": "python",
   "pygments_lexer": "ipython3",
   "version": "3.7.12"
  },
  "papermill": {
   "default_parameters": {},
   "duration": 15.931278,
   "end_time": "2023-01-07T12:34:12.385044",
   "environment_variables": {},
   "exception": null,
   "input_path": "__notebook__.ipynb",
   "output_path": "__notebook__.ipynb",
   "parameters": {},
   "start_time": "2023-01-07T12:33:56.453766",
   "version": "2.3.4"
  }
 },
 "nbformat": 4,
 "nbformat_minor": 5
}
