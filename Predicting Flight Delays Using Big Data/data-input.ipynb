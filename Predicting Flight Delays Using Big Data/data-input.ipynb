{
 "cells": [
  {
   "cell_type": "code",
   "execution_count": 1,
   "metadata": {
    "_cell_guid": "b1076dfc-b9ad-4769-8c92-a6c4dae69d19",
    "_uuid": "8f2839f25d086af736a60e9eeb907d3b93b6e0e5",
    "execution": {
     "iopub.execute_input": "2020-12-04T16:55:25.734331Z",
     "iopub.status.busy": "2020-12-04T16:55:25.733561Z",
     "iopub.status.idle": "2020-12-04T17:04:17.224711Z",
     "shell.execute_reply": "2020-12-04T17:04:17.223643Z"
    },
    "papermill": {
     "duration": 531.506809,
     "end_time": "2020-12-04T17:04:17.224965",
     "exception": false,
     "start_time": "2020-12-04T16:55:25.718156",
     "status": "completed"
    },
    "tags": []
   },
   "outputs": [
    {
     "name": "stdout",
     "output_type": "stream",
     "text": [
      "[124, 701.699]\n",
      "the program costs 531.47 seconds\n"
     ]
    }
   ],
   "source": [
    "import time, IPython\n",
    "import numpy as np\n",
    "import pandas as pd\n",
    "\n",
    "# calculate mean value\n",
    "\n",
    "pathfile = '../input/airline-data/airline.csv.shuffle'       \n",
    "reader = pd.read_csv(pathfile,chunksize=10**6,                      \n",
    "                   iterator=True,                              \n",
    "                   encoding='iso8859-1')                          \n",
    "total_sum = 0;                                                     \n",
    "sample_size = 0;                                                                                                   \n",
    "chunk_counter = 0                                              \n",
    "start = time.time()                                              \n",
    "for each in reader:                                              \n",
    "    chunk_counter += 1                                             \n",
    "    data = each['Distance']                                        \n",
    "    total_sum += np.nansum(data)                                   \n",
    "    sample_size += np.sum(1-np.isnan(data))                        \n",
    "    mu = np.round(total_sum/sample_size,3)                       \n",
    "    IPython.display.clear_output(wait=True)                      \n",
    "    print([chunk_counter, mu])      \n",
    "\n",
    "print('the program costs %.2f seconds'%(time.time() - start))"
   ]
  },
  {
   "cell_type": "code",
   "execution_count": 2,
   "metadata": {
    "_cell_guid": "79c7e3d0-c299-4dcb-8224-4455121ee9b0",
    "_uuid": "d629ff2d2480ee46fbb7e2d37f6b5fab8052498a",
    "execution": {
     "iopub.execute_input": "2020-12-04T17:04:17.246404Z",
     "iopub.status.busy": "2020-12-04T17:04:17.245536Z",
     "iopub.status.idle": "2020-12-04T17:24:38.560330Z",
     "shell.execute_reply": "2020-12-04T17:24:38.559604Z"
    },
    "papermill": {
     "duration": 1221.330514,
     "end_time": "2020-12-04T17:24:38.560498",
     "exception": false,
     "start_time": "2020-12-04T17:04:17.229984",
     "status": "completed"
    },
    "tags": []
   },
   "outputs": [
    {
     "name": "stdout",
     "output_type": "stream",
     "text": [
      "Processing Chunk No. 0\n",
      "Processing Chunk No. 20\n",
      "Processing Chunk No. 40\n",
      "Processing Chunk No. 60\n",
      "Processing Chunk No. 80\n",
      "Processing Chunk No. 100\n",
      "Processing Chunk No. 120\n",
      "the program costs 962.68 seconds\n",
      "The DataFrame takes up 2.26e+03 MB\n",
      "train has 9882798 rows and 29 columns\n"
     ]
    }
   ],
   "source": [
    "pathfile='../input/airline-data/airline.csv.shuffle'       \n",
    "reader = pd.read_csv(pathfile, chunksize=10**6, iterator=True, encoding='iso8859-1')       \n",
    "\n",
    "def print_mem_usage(df):\n",
    "    mem = df.memory_usage().sum() / 1024 ** 2\n",
    "    print('The DataFrame takes up {:.3} MB'.format(mem))\n",
    "\n",
    "train = pd.DataFrame()\n",
    "start=time.time()  \n",
    "for i, chunk in enumerate(reader): \n",
    "    train = pd.concat([train, chunk.sample(frac=.08, replace=False, random_state=213) ], axis=0)  \n",
    "    if i % 20 == 0:\n",
    "        print('Processing Chunk No. {}'.format(i))  \n",
    "print('the program costs %.2f seconds'%(time.time() - start))\n",
    "    \n",
    "print_mem_usage(train)\n",
    "print('train has {} rows and {} columns'.format(train.shape[0], train.shape[1]))\n",
    "\n",
    "train.to_csv('airline.csv', index=False)"
   ]
  }
 ],
 "metadata": {
  "kernelspec": {
   "display_name": "Python 3",
   "language": "python",
   "name": "python3"
  },
  "language_info": {
   "codemirror_mode": {
    "name": "ipython",
    "version": 3
   },
   "file_extension": ".py",
   "mimetype": "text/x-python",
   "name": "python",
   "nbconvert_exporter": "python",
   "pygments_lexer": "ipython3",
   "version": "3.7.6"
  },
  "papermill": {
   "duration": 1757.499737,
   "end_time": "2020-12-04T17:24:38.676053",
   "environment_variables": {},
   "exception": null,
   "input_path": "__notebook__.ipynb",
   "output_path": "__notebook__.ipynb",
   "parameters": {},
   "start_time": "2020-12-04T16:55:21.176316",
   "version": "2.1.0"
  }
 },
 "nbformat": 4,
 "nbformat_minor": 4
}
